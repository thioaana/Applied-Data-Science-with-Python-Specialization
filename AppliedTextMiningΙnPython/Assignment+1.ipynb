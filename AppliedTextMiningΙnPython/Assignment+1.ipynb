{
 "cells": [
  {
   "cell_type": "markdown",
   "metadata": {},
   "source": [
    "---\n",
    "\n",
    "_You are currently looking at **version 1.1** of this notebook. To download notebooks and datafiles, as well as get help on Jupyter notebooks in the Coursera platform, visit the [Jupyter Notebook FAQ](https://www.coursera.org/learn/python-text-mining/resources/d9pwm) course resource._\n",
    "\n",
    "---"
   ]
  },
  {
   "cell_type": "markdown",
   "metadata": {},
   "source": [
    "# Assignment 1\n",
    "\n",
    "In this assignment, you'll be working with messy medical data and using regex to extract relevant infromation from the data. \n",
    "\n",
    "Each line of the `dates.txt` file corresponds to a medical note. Each note has a date that needs to be extracted, but each date is encoded in one of many formats.\n",
    "\n",
    "The goal of this assignment is to correctly identify all of the different date variants encoded in this dataset and to properly normalize and sort the dates. \n",
    "\n",
    "Here is a list of some of the variants you might encounter in this dataset:\n",
    "* 04/20/2009; 04/20/09; 4/20/09; 4/3/09\n",
    "* Mar-20-2009; Mar 20, 2009; March 20, 2009;  Mar. 20, 2009; Mar 20 2009;\n",
    "* 20 Mar 2009; 20 March 2009; 20 Mar. 2009; 20 March, 2009\n",
    "* Mar 20th, 2009; Mar 21st, 2009; Mar 22nd, 2009\n",
    "* Feb 2009; Sep 2009; Oct 2010\n",
    "* 6/2008; 12/2009\n",
    "* 2009; 2010\n",
    "\n",
    "Once you have extracted these date patterns from the text, the next step is to sort them in ascending chronological order accoring to the following rules:\n",
    "* Assume all dates in xx/xx/xx format are mm/dd/yy\n",
    "* Assume all dates where year is encoded in only two digits are years from the 1900's (e.g. 1/5/89 is January 5th, 1989)\n",
    "* If the day is missing (e.g. 9/2009), assume it is the first day of the month (e.g. September 1, 2009).\n",
    "* If the month is missing (e.g. 2010), assume it is the first of January of that year (e.g. January 1, 2010).\n",
    "* Watch out for potential typos as this is a raw, real-life derived dataset.\n",
    "\n",
    "With these rules in mind, find the correct date in each note and return a pandas Series in chronological order of the original Series' indices.\n",
    "\n",
    "For example if the original series was this:\n",
    "\n",
    "    0    1999\n",
    "    1    2010\n",
    "    2    1978\n",
    "    3    2015\n",
    "    4    1985\n",
    "\n",
    "Your function should return this:\n",
    "\n",
    "    0    2\n",
    "    1    4\n",
    "    2    0\n",
    "    3    1\n",
    "    4    3\n",
    "\n",
    "Your score will be calculated using [Kendall's tau](https://en.wikipedia.org/wiki/Kendall_rank_correlation_coefficient), a correlation measure for ordinal data.\n",
    "\n",
    "*This function should return a Series of length 500 and dtype int.*"
   ]
  },
  {
   "cell_type": "code",
   "execution_count": null,
   "metadata": {},
   "outputs": [],
   "source": [
    "import pandas as pd\n",
    "import re\n",
    "\n",
    "\n",
    "def turnToDate(df):\n",
    "    def myMonth(s):\n",
    "        s3 = s[:3]\n",
    "        m = [\"Jan\", \"Feb\", \"Mar\", \"Apr\", \"May\", \"Jun\", \"Jul\", \"Aug\", \"Sep\", \"Oct\", \"Nov\", \"Dec\"].index(s3)\n",
    "        return str(m + 1)\n",
    "    if df.re1 != -1:\n",
    "        y = df.re1[-4:]\n",
    "        a = df.re1[:-4].rstrip()\n",
    "        a = a.split(\" \")\n",
    "        if len(a) == 1 :\n",
    "            return myMonth(a[0]) + \"/1/\" + y\n",
    "        try :\n",
    "            if a[0].isdigit() :\n",
    "                d = a[0]\n",
    "                m = a[1]\n",
    "            else :\n",
    "                d = a[1]\n",
    "                m = a[0]\n",
    "            d = re.search(r'(\\d{1,2})', d).group()\n",
    "            m = myMonth(m)\n",
    "            return m + \"/\" + d + \"/\" + y\n",
    "        except :\n",
    "            print(a)\n",
    "            sys.exit()\n",
    "    elif df.re2 != -1 :\n",
    "        a = df.re2\n",
    "        a = a.replace(\"-\", \"/\")\n",
    "        a = a.split(\"/\")\n",
    "        if len(a[2]) == 2 :\n",
    "            a[2] = \"19\" + a[2]\n",
    "        return a[0] + \"/\" + a[1] + \"/\" + a[2]\n",
    "    else :\n",
    "        a = df.re3.split(\"/\")\n",
    "        if len(a) == 1 :\n",
    "            return \"1/1/\" + a[0]\n",
    "        else :\n",
    "            return a[0] + \"/1/\" + a[1]"
   ]
  },
  {
   "cell_type": "code",
   "execution_count": null,
   "metadata": {},
   "outputs": [],
   "source": [
    "def date_sorter():\n",
    "    re1 = \"(?:\\d{1,2} )?(?:Jan|Feb|Mar|Apr|May|Jun|Jul|Aug|Sep|Oct|Nov|Dec)[a-z.,]* (?:\\d{1,2}(?:st|nd|rd|th)?[.,]? )?\\d{4}\"\n",
    "    re2 = \"\\d{1,2}[/-]\\d{1,2}[/-]\\d{2,4}\"\n",
    "    re3 = \"(?:\\d{1,2}/)?\\d{4}\"\n",
    "\n",
    "    myLines = []\n",
    "    with open('dates.txt') as file:\n",
    "        for i, line in enumerate(file):\n",
    "            myLines.append(line.strip())\n",
    "    df = pd.DataFrame(myLines, columns=[\"Text\"])\n",
    "\n",
    "    df11 = df.Text.str.extract(pat = \"(\" + re1 + \")\")\n",
    "    df12 = df.Text.str.extract(pat = \"(\" + re2 + \")\")\n",
    "    df13 = df.Text.str.extract(pat = \"(\" + re3 + \")\")\n",
    "\n",
    "    dfAll = pd.merge(df, df11.to_frame(), left_index=True, right_index=True)\n",
    "    dfAll = pd.merge(dfAll, df12.to_frame(), left_index=True, right_index=True)\n",
    "    dfAll = pd.merge(dfAll, df13.to_frame(), left_index=True, right_index=True)\n",
    "    print(dfAll.head())\n",
    "    dfAll.columns = [\"Text\", \"re1\", \"re2\", \"re3\"]\n",
    "    dfAll.fillna(-1, inplace=True)\n",
    "\n",
    "    dfAll['Date'] = dfAll.apply(turnToDate, axis = 1)\n",
    "    dfAll[\"Date2\"] = pd.to_datetime(dfAll.Date)\n",
    "    dfNew = dfAll.sort_values(\"Date2\", axis=0, ascending=True)\n",
    "    dfNew.reset_index(inplace=True)\n",
    "    s = dfNew[\"index\"]\n",
    "    \n",
    "    return s\n",
    "# date_sorter()"
   ]
  },
  {
   "cell_type": "code",
   "execution_count": null,
   "metadata": {
    "collapsed": true
   },
   "outputs": [],
   "source": []
  },
  {
   "cell_type": "code",
   "execution_count": null,
   "metadata": {
    "collapsed": true
   },
   "outputs": [],
   "source": []
  }
 ],
 "metadata": {
  "coursera": {
   "course_slug": "python-text-mining",
   "graded_item_id": "LvcWI",
   "launcher_item_id": "krne9",
   "part_id": "Mkp1I"
  },
  "kernelspec": {
   "display_name": "Python 3",
   "language": "python",
   "name": "python3"
  },
  "language_info": {
   "codemirror_mode": {
    "name": "ipython",
    "version": 3
   },
   "file_extension": ".py",
   "mimetype": "text/x-python",
   "name": "python",
   "nbconvert_exporter": "python",
   "pygments_lexer": "ipython3",
   "version": "3.6.2"
  }
 },
 "nbformat": 4,
 "nbformat_minor": 2
}
